{
  "nbformat": 4,
  "nbformat_minor": 0,
  "metadata": {
    "colab": {
      "provenance": []
    },
    "kernelspec": {
      "name": "python3",
      "display_name": "Python 3"
    },
    "language_info": {
      "name": "python"
    }
  },
  "cells": [
    {
      "cell_type": "code",
      "execution_count": 1,
      "metadata": {
        "id": "TNjgJLfJKzeA"
      },
      "outputs": [],
      "source": [
        "import pandas as pd\n",
        "\n",
        "path = 'Data.csv'"
      ]
    },
    {
      "cell_type": "code",
      "source": [
        "df = pd.read_csv(path)"
      ],
      "metadata": {
        "id": "qaDz1hXCLB5Q"
      },
      "execution_count": 2,
      "outputs": []
    },
    {
      "cell_type": "code",
      "source": [
        "print(df)"
      ],
      "metadata": {
        "colab": {
          "base_uri": "https://localhost:8080/"
        },
        "id": "AU5_YSNNLFXF",
        "outputId": "360aec6b-c752-4968-f2db-65acb4474adb"
      },
      "execution_count": 3,
      "outputs": [
        {
          "output_type": "stream",
          "name": "stdout",
          "text": [
            "      Unnamed: 0   DIRECT COST   Unnamed: 2     Unnamed: 3  \\\n",
            "0            NaN       MEDICAL          NaN            NaN   \n",
            "1        CT TYPE  Consultation  Bed charges  Investigation   \n",
            "2   Neo-Adjuvant           450          850           3320   \n",
            "3   Neo-Adjuvant           450         2000           4000   \n",
            "4       Adjuvant           450         4000           4200   \n",
            "..           ...           ...          ...            ...   \n",
            "76      Adjuvant          1050         3900           5200   \n",
            "77      Adjuvant          1050         3900           5000   \n",
            "78  Neo-Adjuvant          1050         2300           5670   \n",
            "79  Neo-Adjuvant          1050         4950           5200   \n",
            "80           NaN   696.1538462   2785.25641    4358.846154   \n",
            "\n",
            "            Unnamed: 4   Unnamed: 5                   Unnamed: 6  \\\n",
            "0                  NaN          NaN                          NaN   \n",
            "1   Diagnostic charges   Medication  Government support utilized   \n",
            "2                  NaN          700                       300000   \n",
            "3                  NaN          750                       500000   \n",
            "4                  NaN          900                       400000   \n",
            "..                 ...          ...                          ...   \n",
            "76                1700          750                        85000   \n",
            "77                1700          750                        30000   \n",
            "78                 950          780                        45000   \n",
            "79                 950          750                        80000   \n",
            "80           1301.5625  752.6923077                  255384.6154   \n",
            "\n",
            "                         Unnamed: 7                  Unnamed: 8  Unnamed: 9  \\\n",
            "0                               NaN                         NaN         NaN   \n",
            "1   Government support not utilized  Others (PET Scan/ CT-Scan)         NaN   \n",
            "2                               NaN                       23000         NaN   \n",
            "3                               NaN                       19000         NaN   \n",
            "4                               NaN                       18000         NaN   \n",
            "..                              ...                         ...         ...   \n",
            "76                              NaN                       19000         NaN   \n",
            "77                              NaN                       18000         NaN   \n",
            "78                              NaN                       18000         NaN   \n",
            "79                              NaN                       23000         NaN   \n",
            "80                      331153.8462                 19871.79487         NaN   \n",
            "\n",
            "    Unnamed: 10 Unnamed: 11         Unnamed: 12 Unnamed: 13  Unnamed: 14  \\\n",
            "0           NaN         NaN                 NaN        Mean          NaN   \n",
            "1           NaN    Adjuvant        Consultation         NaN          NaN   \n",
            "2           NaN         NaN         Bed charges         NaN          NaN   \n",
            "3           NaN         NaN       Investigation         NaN          NaN   \n",
            "4           NaN         NaN  Diagnostic charges         NaN          NaN   \n",
            "..          ...         ...                 ...         ...          ...   \n",
            "76          NaN         NaN                 NaN         NaN          NaN   \n",
            "77          NaN         NaN                 NaN         NaN          NaN   \n",
            "78          NaN         NaN                 NaN         NaN          NaN   \n",
            "79          NaN         NaN                 NaN         NaN          NaN   \n",
            "80          NaN         NaN                 NaN         NaN          NaN   \n",
            "\n",
            "    Unnamed: 15  \n",
            "0           NaN  \n",
            "1           NaN  \n",
            "2           NaN  \n",
            "3           NaN  \n",
            "4           NaN  \n",
            "..          ...  \n",
            "76          NaN  \n",
            "77          NaN  \n",
            "78          NaN  \n",
            "79          NaN  \n",
            "80          NaN  \n",
            "\n",
            "[81 rows x 16 columns]\n"
          ]
        }
      ]
    },
    {
      "cell_type": "code",
      "source": [
        "import pandas as pd\n",
        "\n",
        "# Your DataFrame (replace this with your actual DataFrame)\n",
        "data = {\n",
        "    'CT TYPE': ['Neo-Adjuvant', 'Neo-Adjuvant', 'Adjuvant', 'Neo-Adjuvant', 'Neo-Adjuvant', 'Adjuvant', 'Adjuvant', 'Neo-Adjuvant', 'Adjuvant', 'Neo-Adjuvant', 'Adjuvant', 'Neo-Adjuvant', 'Neo-Adjuvant', 'Neo-Adjuvant', 'Adjuvant', 'Adjuvant', 'Neo-Adjuvant', 'Neo-Adjuvant', 'Adjuvant', 'Neo-Adjuvant'],\n",
        "    'Consultation': [450, 450, 450, 1050, 1050, 450, 1050, 1050, 1050, 450, 1050, 1050, 450, 450, 1050, 1050, 450, 450, 1050, 450],\n",
        "    'Bed charges': [850, 2000, 4000, 2300, 3900, 4950, 2000, 850, 2000, 2300, 4000, 4950, 850, 850, 2300, 4950, 4000, 3900, 2300, 2000],\n",
        "    'Investigation': [3320, 4000, 4200, 5670, 5000, 3320, 5200, 5670, 5200, 3320, 5000, 5670, 4000, 4200, 5200, 5670, 5200, 3320, 4000, 3320],\n",
        "    'Diagnostic charges': [None, None, None, 1700, 1700, None, 950, 1700, 950, None, 1700, 1700, None, None, 950, 950, 1700, None, None, None],\n",
        "    'Medication': [700, 750, 900, 800, 670, 670, 700, 700, 750, 750, 900, 700, 700, 700, 900, 800, 900, 700, 900, 900],\n",
        "    'Government support utilized': [300000, 500000, 400000, 800, 80000, 500000, 50000, 75000, 80000, 300000, 30000, 75000, 700000, 300000, 250000, 500000, 350000, 400000, 100000, 300000],\n",
        "    'Government support not utilized': [23000, 19000, 18000, 23000, 18000, 19000, 23000, 18000, 19000, 23000, 18000, 19000, 23000, 19000, 18000, 23000, 23000, 23000, 18000, 23000],\n",
        "    'Others (PET Scan/ CT-Scan)': [None, None, None, 23000, 18000, None, 23000, 18000, 19000, None, 18000, 19000, None, None, 18000, 23000, 18000, None, None, None]\n",
        "}\n",
        "\n",
        "df = pd.DataFrame(data)\n",
        "\n",
        "# Remove the 'None' values and convert the columns to numeric\n",
        "cost_columns = ['Consultation', 'Bed charges', 'Investigation', 'Diagnostic charges', 'Medication', 'Government support utilized', 'Government support not utilized', 'Others (PET Scan/ CT-Scan)']\n",
        "df[cost_columns] = df[cost_columns].apply(pd.to_numeric, errors='coerce')\n",
        "\n",
        "# Group by 'CT TYPE' and calculate the mean for each cost category\n",
        "mean_costs = df.groupby('CT TYPE').mean()\n",
        "\n",
        "# Print the mean costs\n",
        "print(mean_costs)\n"
      ],
      "metadata": {
        "colab": {
          "base_uri": "https://localhost:8080/"
        },
        "id": "Gl4ka0M3MCoI",
        "outputId": "b54721c7-e9a5-4cc9-c871-2e70d2b3b4a5"
      },
      "execution_count": 5,
      "outputs": [
        {
          "output_type": "stream",
          "name": "stdout",
          "text": [
            "              Consultation  Bed charges  Investigation  Diagnostic charges  \\\n",
            "CT TYPE                                                                      \n",
            "Adjuvant             900.0  3312.500000    4723.750000              1100.0   \n",
            "Neo-Adjuvant         650.0  2395.833333    4390.833333              1700.0   \n",
            "\n",
            "              Medication  Government support utilized  \\\n",
            "CT TYPE                                                 \n",
            "Adjuvant           815.0                238750.000000   \n",
            "Neo-Adjuvant       747.5                281733.333333   \n",
            "\n",
            "              Government support not utilized  Others (PET Scan/ CT-Scan)  \n",
            "CT TYPE                                                                    \n",
            "Adjuvant                         19500.000000                     20200.0  \n",
            "Neo-Adjuvant                     21166.666667                     19200.0  \n"
          ]
        }
      ]
    }
  ]
}