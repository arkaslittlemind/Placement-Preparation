{
  "cells": [
    {
      "cell_type": "code",
      "execution_count": 6,
      "metadata": {
        "id": "X1zUqmDCKIrh"
      },
      "outputs": [],
      "source": [
        "import pandas as pd\n",
        "\n",
        "path = 'test.csv'"
      ]
    },
    {
      "cell_type": "code",
      "execution_count": 7,
      "metadata": {
        "id": "U7l8Xd7XLaoG"
      },
      "outputs": [],
      "source": [
        "df = pd.read_csv(path)\n"
      ]
    },
    {
      "cell_type": "code",
      "execution_count": 8,
      "metadata": {
        "colab": {
          "base_uri": "https://localhost:8080/"
        },
        "id": "EUyJ9GwJLhyz",
        "outputId": "5d0a6f97-5077-497f-e65f-77907e4cb225"
      },
      "outputs": [
        {
          "name": "stdout",
          "output_type": "stream",
          "text": [
            "          MALIGNANCY STAGE\n",
            "0              OVARY   III\n",
            "1              OVARY    II\n",
            "2   SEX CORD STROMAL   III\n",
            "3             BREAST    II\n",
            "4             BREAST   III\n",
            "..               ...   ...\n",
            "73            TONGUE    IV\n",
            "74    PYRIFORM FOSSA    II\n",
            "75            BREAST    IV\n",
            "76            BREAST    IV\n",
            "77       HYPOPHARYNX    II\n",
            "\n",
            "[78 rows x 2 columns]\n"
          ]
        }
      ],
      "source": [
        "print(df)"
      ]
    },
    {
      "cell_type": "code",
      "execution_count": 57,
      "metadata": {
        "id": "6p-baGOdLoOo"
      },
      "outputs": [],
      "source": [
        "ovaryCount = df[(df['MALIGNANCY'] == 'CERVIX') & (df['STAGE'] == 'IV')].shape[0]"
      ]
    },
    {
      "cell_type": "code",
      "execution_count": 58,
      "metadata": {
        "colab": {
          "base_uri": "https://localhost:8080/"
        },
        "id": "Fcah8pLSL7Ff",
        "outputId": "5179dd80-a6a0-4d66-8564-0bec62b3b857"
      },
      "outputs": [
        {
          "name": "stdout",
          "output_type": "stream",
          "text": [
            "4\n"
          ]
        }
      ],
      "source": [
        "print(ovaryCount)"
      ]
    },
    {
      "cell_type": "code",
      "execution_count": 103,
      "metadata": {
        "id": "n2WToJVwO1QI"
      },
      "outputs": [],
      "source": [
        "cervixCount = df[(df['MALIGNANCY'] == 'TONSIL') & (df['STAGE'] == 'IV')].shape[0]"
      ]
    },
    {
      "cell_type": "code",
      "execution_count": 104,
      "metadata": {
        "colab": {
          "base_uri": "https://localhost:8080/"
        },
        "id": "RK6RVtrNO4Mr",
        "outputId": "6b53fe75-0bf6-4640-b5e6-5124f0b10e5d"
      },
      "outputs": [
        {
          "name": "stdout",
          "output_type": "stream",
          "text": [
            "0\n"
          ]
        }
      ],
      "source": [
        "print(cervixCount)"
      ]
    },
    {
      "cell_type": "code",
      "execution_count": 109,
      "metadata": {
        "id": "ep6YfM2rQ8Yt"
      },
      "outputs": [],
      "source": [
        "total = df[(df['MALIGNANCY'] == 'BREAST') & (df['STAGE'] == 'I')].shape[0]"
      ]
    },
    {
      "cell_type": "code",
      "execution_count": 110,
      "metadata": {
        "colab": {
          "base_uri": "https://localhost:8080/"
        },
        "id": "YslIsI5dRCfW",
        "outputId": "7d3d37c7-5ab5-4fc0-ba50-ad9398028281"
      },
      "outputs": [
        {
          "name": "stdout",
          "output_type": "stream",
          "text": [
            "2\n"
          ]
        }
      ],
      "source": [
        "print(total)"
      ]
    }
  ],
  "metadata": {
    "colab": {
      "provenance": []
    },
    "kernelspec": {
      "display_name": "Python 3",
      "name": "python3"
    },
    "language_info": {
      "name": "python"
    }
  },
  "nbformat": 4,
  "nbformat_minor": 0
}
