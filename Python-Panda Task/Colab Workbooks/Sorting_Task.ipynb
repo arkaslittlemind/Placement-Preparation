{
  "nbformat": 4,
  "nbformat_minor": 0,
  "metadata": {
    "colab": {
      "provenance": []
    },
    "kernelspec": {
      "name": "python3",
      "display_name": "Python 3"
    },
    "language_info": {
      "name": "python"
    }
  },
  "cells": [
    {
      "cell_type": "code",
      "execution_count": 1,
      "metadata": {
        "id": "VSOLGtxW9odS"
      },
      "outputs": [],
      "source": [
        "import pandas as pd"
      ]
    },
    {
      "cell_type": "code",
      "source": [
        "path = 'sorting.csv'"
      ],
      "metadata": {
        "id": "nOHfAuLm-8YW"
      },
      "execution_count": 2,
      "outputs": []
    },
    {
      "cell_type": "code",
      "source": [
        "df = pd.read_csv(path)\n",
        "\n",
        "print(df)"
      ],
      "metadata": {
        "colab": {
          "base_uri": "https://localhost:8080/"
        },
        "id": "jR-H1VdB_Csp",
        "outputId": "070527a4-1585-4490-d2d7-6371e6384078"
      },
      "execution_count": 3,
      "outputs": [
        {
          "output_type": "stream",
          "name": "stdout",
          "text": [
            "          MALIGNANCY       CT TYPE  Unnamed: 2  Unnamed: 3 Unnamed: 4  \\\n",
            "0              OVARY  Neo-Adjuvant         NaN         NaN        NaN   \n",
            "1              OVARY  Neo-Adjuvant         NaN         NaN     Breast   \n",
            "2   SEX CORD STROMAL      Adjuvant         NaN         NaN        NaN   \n",
            "3             BREAST  Neo-Adjuvant         NaN         NaN      Ovary   \n",
            "4             BREAST  Neo-Adjuvant         NaN         NaN        NaN   \n",
            "..               ...           ...         ...         ...        ...   \n",
            "73            TONGUE  Neo-Adjuvant         NaN         NaN        NaN   \n",
            "74    PYRIFORM FOSSA      Adjuvant         NaN         NaN        NaN   \n",
            "75            BREAST      Adjuvant         NaN         NaN        NaN   \n",
            "76            BREAST  Neo-Adjuvant         NaN         NaN        NaN   \n",
            "77       HYPOPHARYNX  Neo-Adjuvant         NaN         NaN        NaN   \n",
            "\n",
            "      Unnamed: 5 Unnamed: 6  \n",
            "0            NaN     Number  \n",
            "1       Adjuvant        NaN  \n",
            "2   Neo-Adjuvant        NaN  \n",
            "3       Adjuvant        NaN  \n",
            "4   Neo-Adjuvant        NaN  \n",
            "..           ...        ...  \n",
            "73           NaN        NaN  \n",
            "74           NaN        NaN  \n",
            "75           NaN        NaN  \n",
            "76           NaN        NaN  \n",
            "77           NaN        NaN  \n",
            "\n",
            "[78 rows x 7 columns]\n"
          ]
        }
      ]
    },
    {
      "cell_type": "code",
      "source": [
        "result = df.groupby(['MALIGNANCY', 'CT TYPE']).size().unstack().fillna(0)\n"
      ],
      "metadata": {
        "id": "QRdW4zBV_PEL"
      },
      "execution_count": 5,
      "outputs": []
    },
    {
      "cell_type": "code",
      "source": [
        "print(result)"
      ],
      "metadata": {
        "colab": {
          "base_uri": "https://localhost:8080/"
        },
        "id": "W0-J_IHg_cdr",
        "outputId": "106a846c-68b1-4470-da3d-768e41566172"
      },
      "execution_count": 6,
      "outputs": [
        {
          "output_type": "stream",
          "name": "stdout",
          "text": [
            "CT TYPE           Adjuvant  Neo-Adjuvant\n",
            "MALIGNANCY                              \n",
            "BREAST                10.0          20.0\n",
            "CERVIX                 0.0           4.0\n",
            "ENDOMETRIUM            3.0           0.0\n",
            "GLIOMA                 3.0           0.0\n",
            "HYPOPHARYNX            0.0           3.0\n",
            "OVARY                  2.0          14.0\n",
            "PYRIFORM FOSSA         6.0           0.0\n",
            "SEX CORD STROMAL       1.0           0.0\n",
            "TONGUE                 0.0           6.0\n",
            "TONSIL                 2.0           0.0\n",
            "VAGINAL VAULT          4.0           0.0\n"
          ]
        }
      ]
    },
    {
      "cell_type": "code",
      "source": [
        "result = result.astype(int)"
      ],
      "metadata": {
        "id": "AcS-LTIq_yDn"
      },
      "execution_count": 7,
      "outputs": []
    },
    {
      "cell_type": "code",
      "source": [
        "print(result)"
      ],
      "metadata": {
        "colab": {
          "base_uri": "https://localhost:8080/"
        },
        "id": "21AdwX5E_2na",
        "outputId": "63133a96-3358-4287-8436-02a91b2e18b9"
      },
      "execution_count": 8,
      "outputs": [
        {
          "output_type": "stream",
          "name": "stdout",
          "text": [
            "CT TYPE           Adjuvant  Neo-Adjuvant\n",
            "MALIGNANCY                              \n",
            "BREAST                  10            20\n",
            "CERVIX                   0             4\n",
            "ENDOMETRIUM              3             0\n",
            "GLIOMA                   3             0\n",
            "HYPOPHARYNX              0             3\n",
            "OVARY                    2            14\n",
            "PYRIFORM FOSSA           6             0\n",
            "SEX CORD STROMAL         1             0\n",
            "TONGUE                   0             6\n",
            "TONSIL                   2             0\n",
            "VAGINAL VAULT            4             0\n"
          ]
        }
      ]
    }
  ]
}